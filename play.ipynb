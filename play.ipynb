{
 "cells": [
  {
   "cell_type": "code",
   "execution_count": 1,
   "metadata": {},
   "outputs": [],
   "source": [
    "import numpy as np"
   ]
  },
  {
   "cell_type": "code",
   "execution_count": 2,
   "metadata": {},
   "outputs": [],
   "source": [
    "q_0 = np.matrix([[1],[0]])\n",
    "q_1 = np.matrix([[0],[1]])\n",
    "q_i = q_0 + q_1\n",
    "q_x = q_0 - q_1\n",
    "q_y = q_0 - q_1\n",
    "q_z = q_0 - q_1"
   ]
  },
  {
   "cell_type": "code",
   "execution_count": 4,
   "metadata": {},
   "outputs": [],
   "source": [
    "def for_loop():\n",
    "    for i in [q_i,q_x,q_y,q_z]:\n",
    "        mat = i\n",
    "        return mat\n",
    "    "
   ]
  },
  {
   "cell_type": "code",
   "execution_count": 7,
   "metadata": {},
   "outputs": [],
   "source": [
    "sign_list = []\n",
    "for i in [q_i,q_x,q_y,q_z]:\n",
    "    for j in [q_i,q_x,q_y,q_z]:\n",
    "        mat = np.kron(i,j)\n",
    "        sign_list.append(mat)"
   ]
  },
  {
   "cell_type": "code",
   "execution_count": 8,
   "metadata": {},
   "outputs": [
    {
     "data": {
      "text/plain": [
       "[matrix([[1],\n",
       "         [1],\n",
       "         [1],\n",
       "         [1]]),\n",
       " matrix([[ 1],\n",
       "         [-1],\n",
       "         [ 1],\n",
       "         [-1]]),\n",
       " matrix([[ 1],\n",
       "         [-1],\n",
       "         [ 1],\n",
       "         [-1]]),\n",
       " matrix([[ 1],\n",
       "         [-1],\n",
       "         [ 1],\n",
       "         [-1]]),\n",
       " matrix([[ 1],\n",
       "         [ 1],\n",
       "         [-1],\n",
       "         [-1]]),\n",
       " matrix([[ 1],\n",
       "         [-1],\n",
       "         [-1],\n",
       "         [ 1]]),\n",
       " matrix([[ 1],\n",
       "         [-1],\n",
       "         [-1],\n",
       "         [ 1]]),\n",
       " matrix([[ 1],\n",
       "         [-1],\n",
       "         [-1],\n",
       "         [ 1]]),\n",
       " matrix([[ 1],\n",
       "         [ 1],\n",
       "         [-1],\n",
       "         [-1]]),\n",
       " matrix([[ 1],\n",
       "         [-1],\n",
       "         [-1],\n",
       "         [ 1]]),\n",
       " matrix([[ 1],\n",
       "         [-1],\n",
       "         [-1],\n",
       "         [ 1]]),\n",
       " matrix([[ 1],\n",
       "         [-1],\n",
       "         [-1],\n",
       "         [ 1]]),\n",
       " matrix([[ 1],\n",
       "         [ 1],\n",
       "         [-1],\n",
       "         [-1]]),\n",
       " matrix([[ 1],\n",
       "         [-1],\n",
       "         [-1],\n",
       "         [ 1]]),\n",
       " matrix([[ 1],\n",
       "         [-1],\n",
       "         [-1],\n",
       "         [ 1]]),\n",
       " matrix([[ 1],\n",
       "         [-1],\n",
       "         [-1],\n",
       "         [ 1]])]"
      ]
     },
     "execution_count": 8,
     "metadata": {},
     "output_type": "execute_result"
    }
   ],
   "source": [
    "sign_list"
   ]
  }
 ],
 "metadata": {
  "kernelspec": {
   "display_name": "Python 3",
   "language": "python",
   "name": "python3"
  },
  "language_info": {
   "codemirror_mode": {
    "name": "ipython",
    "version": 3
   },
   "file_extension": ".py",
   "mimetype": "text/x-python",
   "name": "python",
   "nbconvert_exporter": "python",
   "pygments_lexer": "ipython3",
   "version": "3.8.3"
  }
 },
 "nbformat": 4,
 "nbformat_minor": 4
}
